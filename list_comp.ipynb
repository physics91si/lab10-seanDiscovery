{
 "cells": [
  {
   "cell_type": "code",
   "execution_count": 9,
   "metadata": {
    "collapsed": true
   },
   "outputs": [],
   "source": [
    "import string \n",
    "from itertools import chain"
   ]
  },
  {
   "cell_type": "code",
   "execution_count": 10,
   "metadata": {
    "collapsed": false
   },
   "outputs": [
    {
     "name": "stdout",
     "output_type": "stream",
     "text": [
      "abcdefghijklmnopqrstuvwxyz\n"
     ]
    }
   ],
   "source": [
    "alphabet = string.ascii_lowercase\n",
    "print(alphabet)"
   ]
  },
  {
   "cell_type": "code",
   "execution_count": 4,
   "metadata": {
    "collapsed": false
   },
   "outputs": [
    {
     "data": {
      "text/plain": [
       "['a',\n",
       " 'b',\n",
       " 'c',\n",
       " 'd',\n",
       " 'e',\n",
       " 'f',\n",
       " 'g',\n",
       " 'h',\n",
       " 'i',\n",
       " 'j',\n",
       " 'k',\n",
       " 'l',\n",
       " 'm',\n",
       " 'n',\n",
       " 'o',\n",
       " 'p',\n",
       " 'q',\n",
       " 'r',\n",
       " 's',\n",
       " 't',\n",
       " 'u',\n",
       " 'v',\n",
       " 'w',\n",
       " 'x',\n",
       " 'y',\n",
       " 'z']"
      ]
     },
     "execution_count": 4,
     "metadata": {},
     "output_type": "execute_result"
    }
   ],
   "source": [
    "[alpha for alpha in alphabet]"
   ]
  },
  {
   "cell_type": "code",
   "execution_count": 5,
   "metadata": {
    "collapsed": false
   },
   "outputs": [
    {
     "data": {
      "text/plain": [
       "['a', 'b', 'c', 'd', 'e', 'g', 'h', 'i', 'j']"
      ]
     },
     "execution_count": 5,
     "metadata": {},
     "output_type": "execute_result"
    }
   ],
   "source": [
    "[alpha for alpha in alphabet[:10] if alpha != alphabet[5]]"
   ]
  },
  {
   "cell_type": "code",
   "execution_count": 6,
   "metadata": {
    "collapsed": false
   },
   "outputs": [
    {
     "name": "stdout",
     "output_type": "stream",
     "text": [
      "['a', 'aa', 'aaa', 'b', 'bb', 'bbb', 'c', 'cc', 'ccc', 'd', 'dd', 'ddd', 'e', 'ee', 'eee', 'g', 'gg', 'ggg', 'h', 'hh', 'hhh', 'i', 'ii', 'iii', 'j', 'jj', 'jjj']\n"
     ]
    }
   ],
   "source": [
    "# couldn't figure out how to do this part without importing helper function found on Stack Exchange! Any tips? \n",
    "alpha_list = list(chain.from_iterable( (alpha, alpha*2, alpha*3) for alpha in alphabet[:10] if alpha != alphabet[5] ))\n",
    "print(alpha_list)"
   ]
  },
  {
   "cell_type": "code",
   "execution_count": 11,
   "metadata": {
    "collapsed": false
   },
   "outputs": [
    {
     "data": {
      "text/plain": [
       "[['a', 'aa', 'aaa'],\n",
       " ['b', 'bb', 'bbb'],\n",
       " ['c', 'cc', 'ccc'],\n",
       " ['d', 'dd', 'ddd'],\n",
       " ['e', 'ee', 'eee'],\n",
       " ['g', 'gg', 'ggg'],\n",
       " ['h', 'hh', 'hhh'],\n",
       " ['i', 'ii', 'iii'],\n",
       " ['j', 'jj', 'jjj']]"
      ]
     },
     "execution_count": 11,
     "metadata": {},
     "output_type": "execute_result"
    }
   ],
   "source": [
    "alpha_grid = [[alpha, alpha*2, alpha*3] for alpha in alphabet[:10] if alpha != alphabet[5]]"
   ]
  },
  {
   "cell_type": "code",
   "execution_count": 46,
   "metadata": {
    "collapsed": false,
    "scrolled": true
   },
   "outputs": [
    {
     "name": "stdout",
     "output_type": "stream",
     "text": [
      "[['A', 'aa', 'aaa'], ['b', 'B', 'bbb'], ['c', 'cc', 'C'], ['D', 'dd', 'ddd'], ['e', 'E', 'eee'], ['g', 'gg', 'G'], ['H', 'hh', 'hhh'], ['i', 'I', 'iii'], ['j', 'jj', 'J']]\n"
     ]
    },
    {
     "data": {
      "text/plain": [
       "'\\none = [[alpha[i].capitalize(), alpha[i]*2, alpha[i]*3] for i in range(len(alpha)) if (i != 5 and i % 3 == 0)]\\ntwo = [[alpha[i], alpha[i].capitalize(), alpha[i]*3] for i in range(len(alpha)) if (i != 5 and (i - 1) % 3 == 0)]\\nthree = [[alpha[i], alpha[i].capitalize(), alpha[i]*3] for i in range(len(alpha)) if (i != 5 and (i - 2) % 3 == 0)]\\nprint(one) \\nprint(two) \\nprint(three)\\n'"
      ]
     },
     "execution_count": 46,
     "metadata": {},
     "output_type": "execute_result"
    }
   ],
   "source": [
    "#[grid_list[i][j][0].capitalize() for i in len(grid_list) for j in len(grid_list[1]) if  (i - j) % 3 == 0]\n",
    "\n",
    "alpha = list(alphabet[:10])\n",
    "alpha.remove(\"f\")\n",
    "\n",
    "test = [ [alpha[i].capitalize(), alpha[i]*2, alpha[i]*3] if (i % 3) == 0 else [alpha[i], alpha[i].capitalize(), alpha[i]*3] \n",
    "    if (i - 1) % 3 == 0 else [alpha[i], alpha[i]*2, alpha[i].capitalize()] for i in range(len(alpha)) ]\n",
    "\n",
    "print(test)\n",
    "\n",
    "# debugging list above\n",
    "\"\"\"\n",
    "list_test = []\n",
    "for i in range(len(alpha)):\n",
    "    if (i != 5 and (i % 3) == 0):\n",
    "        list_test.append([alpha[i].capitalize(), alpha[i]*2, alpha[i]*3])\n",
    "    elif (i != 5 and (i - 1) % 3 == 0):\n",
    "        list_test.append([alpha[i], alpha[i].capitalize(), alpha[i]*3])\n",
    "    elif (i != 5 and (i - 2) % 3 == 0): \n",
    "        list_test.append([alpha[i], alpha[i]*2, alpha[i].capitalize()])\n",
    "print(list_test)\n",
    "\"\"\"\n",
    "\n",
    "\"\"\"\n",
    "one = [[alpha[i].capitalize(), alpha[i]*2, alpha[i]*3] for i in range(len(alpha)) if (i != 5 and i % 3 == 0)]\n",
    "two = [[alpha[i], alpha[i].capitalize(), alpha[i]*3] for i in range(len(alpha)) if (i != 5 and (i - 1) % 3 == 0)]\n",
    "three = [[alpha[i], alpha[i].capitalize(), alpha[i]*3] for i in range(len(alpha)) if (i != 5 and (i - 2) % 3 == 0)]\n",
    "print(one) \n",
    "print(two) \n",
    "print(three)\n",
    "\"\"\""
   ]
  },
  {
   "cell_type": "code",
   "execution_count": null,
   "metadata": {
    "collapsed": true
   },
   "outputs": [],
   "source": []
  }
 ],
 "metadata": {
  "kernelspec": {
   "display_name": "Python 2",
   "language": "python",
   "name": "python2"
  },
  "language_info": {
   "codemirror_mode": {
    "name": "ipython",
    "version": 2
   },
   "file_extension": ".py",
   "mimetype": "text/x-python",
   "name": "python",
   "nbconvert_exporter": "python",
   "pygments_lexer": "ipython2",
   "version": "2.7.11"
  }
 },
 "nbformat": 4,
 "nbformat_minor": 0
}
